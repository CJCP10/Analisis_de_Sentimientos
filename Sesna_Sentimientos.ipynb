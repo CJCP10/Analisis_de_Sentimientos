{
 "cells": [
  {
   "cell_type": "markdown",
   "id": "5aa9e38e",
   "metadata": {},
   "source": [
    "# Primera parte preprocesamiento de texto"
   ]
  },
  {
   "cell_type": "code",
   "execution_count": 524,
   "id": "66c09ecd",
   "metadata": {},
   "outputs": [],
   "source": [
    "import pandas as pd\n",
    "import numpy as np\n",
    "import nltk\n",
    "from nltk.stem import WordNetLemmatizer\n",
    "from nltk import word_tokenize \n",
    "from nltk.corpus import wordnet\n",
    "from nltk.corpus import treebank\n",
    "from nltk.corpus import stopwords\n",
    "import wordcloud                                        #Generar Nube de palabras\n",
    "from wordcloud import WordCloud, ImageColorGenerator    #Generar Nube de palabras \n",
    "from textblob import TextBlob                           #Sirve para hacer análisis de sentimientos\n",
    "import seaborn as sns\n",
    "import matplotlib.pyplot as plt\n",
    "import re                                               # Para expresiones irregulares\n",
    "from PIL import Image                                   # Cargar la imagen que queremos\n",
    "from stylecloud import gen_stylecloud                   # para generar la imagen de la nube de palabras\n",
    "import unicodedata   \n",
    "from bs4 import BeautifulSoup\n",
    "from nltk.sentiment import SentimentIntensityAnalyzer     #polaridad del texto"
   ]
  },
  {
   "cell_type": "code",
   "execution_count": 525,
   "id": "62784b9c",
   "metadata": {},
   "outputs": [
    {
     "data": {
      "text/html": [
       "<div>\n",
       "<style scoped>\n",
       "    .dataframe tbody tr th:only-of-type {\n",
       "        vertical-align: middle;\n",
       "    }\n",
       "\n",
       "    .dataframe tbody tr th {\n",
       "        vertical-align: top;\n",
       "    }\n",
       "\n",
       "    .dataframe thead th {\n",
       "        text-align: right;\n",
       "    }\n",
       "</style>\n",
       "<table border=\"1\" class=\"dataframe\">\n",
       "  <thead>\n",
       "    <tr style=\"text-align: right;\">\n",
       "      <th></th>\n",
       "      <th>Unnamed: 0</th>\n",
       "      <th>created_at</th>\n",
       "      <th>id</th>\n",
       "      <th>id_str</th>\n",
       "      <th>full_text</th>\n",
       "      <th>truncated</th>\n",
       "      <th>display_text_range</th>\n",
       "      <th>in_reply_to_status_id</th>\n",
       "      <th>in_reply_to_status_id_str</th>\n",
       "      <th>in_reply_to_user_id</th>\n",
       "      <th>in_reply_to_user_id_str</th>\n",
       "      <th>in_reply_to_screen_name</th>\n",
       "      <th>geo</th>\n",
       "      <th>is_quote_status</th>\n",
       "      <th>retweet_count</th>\n",
       "      <th>favorite_count</th>\n",
       "      <th>favorited</th>\n",
       "      <th>New</th>\n",
       "    </tr>\n",
       "  </thead>\n",
       "  <tbody>\n",
       "    <tr>\n",
       "      <th>0</th>\n",
       "      <td>1</td>\n",
       "      <td>2023-01-13 13:59:00</td>\n",
       "      <td>1613898409366224896</td>\n",
       "      <td>1613898409366224898</td>\n",
       "      <td>#Convenio \\n\\n??️ Revive el evento donde la #S...</td>\n",
       "      <td>False</td>\n",
       "      <td>221</td>\n",
       "      <td>NaN</td>\n",
       "      <td>NaN</td>\n",
       "      <td>NaN</td>\n",
       "      <td>NaN</td>\n",
       "      <td>NaN</td>\n",
       "      <td>NaN</td>\n",
       "      <td>False</td>\n",
       "      <td>0</td>\n",
       "      <td>1</td>\n",
       "      <td>False</td>\n",
       "      <td>True</td>\n",
       "    </tr>\n",
       "    <tr>\n",
       "      <th>1</th>\n",
       "      <td>2</td>\n",
       "      <td>2023-01-13 00:08:44</td>\n",
       "      <td>1613689467923038208</td>\n",
       "      <td>1613689467923038211</td>\n",
       "      <td>?? Noel Díaz Rodríguez, Fiscal Especializado A...</td>\n",
       "      <td>False</td>\n",
       "      <td>277</td>\n",
       "      <td>NaN</td>\n",
       "      <td>NaN</td>\n",
       "      <td>NaN</td>\n",
       "      <td>NaN</td>\n",
       "      <td>NaN</td>\n",
       "      <td>NaN</td>\n",
       "      <td>False</td>\n",
       "      <td>1</td>\n",
       "      <td>6</td>\n",
       "      <td>False</td>\n",
       "      <td>True</td>\n",
       "    </tr>\n",
       "    <tr>\n",
       "      <th>2</th>\n",
       "      <td>3</td>\n",
       "      <td>2023-01-12 23:01:54</td>\n",
       "      <td>1613672645970501632</td>\n",
       "      <td>1613672645970501634</td>\n",
       "      <td>✍️@morenoroberto77, Titular de #SESNA, en reun...</td>\n",
       "      <td>False</td>\n",
       "      <td>280</td>\n",
       "      <td>NaN</td>\n",
       "      <td>NaN</td>\n",
       "      <td>NaN</td>\n",
       "      <td>NaN</td>\n",
       "      <td>NaN</td>\n",
       "      <td>NaN</td>\n",
       "      <td>False</td>\n",
       "      <td>4</td>\n",
       "      <td>15</td>\n",
       "      <td>False</td>\n",
       "      <td>True</td>\n",
       "    </tr>\n",
       "    <tr>\n",
       "      <th>3</th>\n",
       "      <td>4</td>\n",
       "      <td>2023-01-12 18:40:12</td>\n",
       "      <td>1613606788783276032</td>\n",
       "      <td>1613606788783276066</td>\n",
       "      <td>#Querétaro \\n#FederalismoAnticorrupción\\n#Form...</td>\n",
       "      <td>False</td>\n",
       "      <td>49</td>\n",
       "      <td>NaN</td>\n",
       "      <td>NaN</td>\n",
       "      <td>NaN</td>\n",
       "      <td>NaN</td>\n",
       "      <td>NaN</td>\n",
       "      <td>NaN</td>\n",
       "      <td>True</td>\n",
       "      <td>0</td>\n",
       "      <td>0</td>\n",
       "      <td>False</td>\n",
       "      <td>True</td>\n",
       "    </tr>\n",
       "    <tr>\n",
       "      <th>4</th>\n",
       "      <td>5</td>\n",
       "      <td>2023-01-12 18:10:00</td>\n",
       "      <td>1613599188125888512</td>\n",
       "      <td>1613599188125888512</td>\n",
       "      <td>#EstadoDeMéxico \\n#Anticorrupción\\n#Federalism...</td>\n",
       "      <td>False</td>\n",
       "      <td>59</td>\n",
       "      <td>NaN</td>\n",
       "      <td>NaN</td>\n",
       "      <td>NaN</td>\n",
       "      <td>NaN</td>\n",
       "      <td>NaN</td>\n",
       "      <td>NaN</td>\n",
       "      <td>True</td>\n",
       "      <td>2</td>\n",
       "      <td>4</td>\n",
       "      <td>False</td>\n",
       "      <td>True</td>\n",
       "    </tr>\n",
       "  </tbody>\n",
       "</table>\n",
       "</div>"
      ],
      "text/plain": [
       "   Unnamed: 0          created_at                   id               id_str  \\\n",
       "0           1 2023-01-13 13:59:00  1613898409366224896  1613898409366224898   \n",
       "1           2 2023-01-13 00:08:44  1613689467923038208  1613689467923038211   \n",
       "2           3 2023-01-12 23:01:54  1613672645970501632  1613672645970501634   \n",
       "3           4 2023-01-12 18:40:12  1613606788783276032  1613606788783276066   \n",
       "4           5 2023-01-12 18:10:00  1613599188125888512  1613599188125888512   \n",
       "\n",
       "                                           full_text  truncated  \\\n",
       "0  #Convenio \\n\\n??️ Revive el evento donde la #S...      False   \n",
       "1  ?? Noel Díaz Rodríguez, Fiscal Especializado A...      False   \n",
       "2  ✍️@morenoroberto77, Titular de #SESNA, en reun...      False   \n",
       "3  #Querétaro \\n#FederalismoAnticorrupción\\n#Form...      False   \n",
       "4  #EstadoDeMéxico \\n#Anticorrupción\\n#Federalism...      False   \n",
       "\n",
       "   display_text_range  in_reply_to_status_id  in_reply_to_status_id_str  \\\n",
       "0                 221                    NaN                        NaN   \n",
       "1                 277                    NaN                        NaN   \n",
       "2                 280                    NaN                        NaN   \n",
       "3                  49                    NaN                        NaN   \n",
       "4                  59                    NaN                        NaN   \n",
       "\n",
       "   in_reply_to_user_id  in_reply_to_user_id_str in_reply_to_screen_name  geo  \\\n",
       "0                  NaN                      NaN                     NaN  NaN   \n",
       "1                  NaN                      NaN                     NaN  NaN   \n",
       "2                  NaN                      NaN                     NaN  NaN   \n",
       "3                  NaN                      NaN                     NaN  NaN   \n",
       "4                  NaN                      NaN                     NaN  NaN   \n",
       "\n",
       "   is_quote_status  retweet_count  favorite_count  favorited   New  \n",
       "0            False              0               1      False  True  \n",
       "1            False              1               6      False  True  \n",
       "2            False              4              15      False  True  \n",
       "3             True              0               0      False  True  \n",
       "4             True              2               4      False  True  "
      ]
     },
     "execution_count": 525,
     "metadata": {},
     "output_type": "execute_result"
    }
   ],
   "source": [
    "sesna = pd.read_excel('tuits.xlsx', sheet_name='sesna') #Traemos nuestro documento y la hoja en donde se encuentran los Tweets\n",
    "sesna.head()                                            #Llamamos a los primeros  5 registros\n",
    "#sesna = pd.read_csv('AirlineTweets.csv') \n",
    "#sesna.head()"
   ]
  },
  {
   "cell_type": "code",
   "execution_count": 526,
   "id": "f48d2bc6",
   "metadata": {},
   "outputs": [
    {
     "data": {
      "text/html": [
       "<div>\n",
       "<style scoped>\n",
       "    .dataframe tbody tr th:only-of-type {\n",
       "        vertical-align: middle;\n",
       "    }\n",
       "\n",
       "    .dataframe tbody tr th {\n",
       "        vertical-align: top;\n",
       "    }\n",
       "\n",
       "    .dataframe thead th {\n",
       "        text-align: right;\n",
       "    }\n",
       "</style>\n",
       "<table border=\"1\" class=\"dataframe\">\n",
       "  <thead>\n",
       "    <tr style=\"text-align: right;\">\n",
       "      <th></th>\n",
       "      <th>created_at</th>\n",
       "      <th>full_text</th>\n",
       "      <th>retweet_count</th>\n",
       "      <th>New</th>\n",
       "    </tr>\n",
       "  </thead>\n",
       "  <tbody>\n",
       "    <tr>\n",
       "      <th>0</th>\n",
       "      <td>2023-01-13 13:59:00</td>\n",
       "      <td>#Convenio \\n\\n??️ Revive el evento donde la #S...</td>\n",
       "      <td>0</td>\n",
       "      <td>True</td>\n",
       "    </tr>\n",
       "    <tr>\n",
       "      <th>1</th>\n",
       "      <td>2023-01-13 00:08:44</td>\n",
       "      <td>?? Noel Díaz Rodríguez, Fiscal Especializado A...</td>\n",
       "      <td>1</td>\n",
       "      <td>True</td>\n",
       "    </tr>\n",
       "    <tr>\n",
       "      <th>2</th>\n",
       "      <td>2023-01-12 23:01:54</td>\n",
       "      <td>✍️@morenoroberto77, Titular de #SESNA, en reun...</td>\n",
       "      <td>4</td>\n",
       "      <td>True</td>\n",
       "    </tr>\n",
       "    <tr>\n",
       "      <th>3</th>\n",
       "      <td>2023-01-12 18:40:12</td>\n",
       "      <td>#Querétaro \\n#FederalismoAnticorrupción\\n#Form...</td>\n",
       "      <td>0</td>\n",
       "      <td>True</td>\n",
       "    </tr>\n",
       "    <tr>\n",
       "      <th>4</th>\n",
       "      <td>2023-01-12 18:10:00</td>\n",
       "      <td>#EstadoDeMéxico \\n#Anticorrupción\\n#Federalism...</td>\n",
       "      <td>2</td>\n",
       "      <td>True</td>\n",
       "    </tr>\n",
       "  </tbody>\n",
       "</table>\n",
       "</div>"
      ],
      "text/plain": [
       "           created_at                                          full_text  \\\n",
       "0 2023-01-13 13:59:00  #Convenio \\n\\n??️ Revive el evento donde la #S...   \n",
       "1 2023-01-13 00:08:44  ?? Noel Díaz Rodríguez, Fiscal Especializado A...   \n",
       "2 2023-01-12 23:01:54  ✍️@morenoroberto77, Titular de #SESNA, en reun...   \n",
       "3 2023-01-12 18:40:12  #Querétaro \\n#FederalismoAnticorrupción\\n#Form...   \n",
       "4 2023-01-12 18:10:00  #EstadoDeMéxico \\n#Anticorrupción\\n#Federalism...   \n",
       "\n",
       "   retweet_count   New  \n",
       "0              0  True  \n",
       "1              1  True  \n",
       "2              4  True  \n",
       "3              0  True  \n",
       "4              2  True  "
      ]
     },
     "execution_count": 526,
     "metadata": {},
     "output_type": "execute_result"
    }
   ],
   "source": [
    "# drop unnecesary columns\n",
    "sesna = sesna.drop(['Unnamed: 0', 'id', 'id_str', 'truncated', 'display_text_range','in_reply_to_status_id',\n",
    "              'in_reply_to_status_id_str','in_reply_to_user_id','in_reply_to_user_id_str', 'in_reply_to_screen_name',\n",
    "             'geo', 'is_quote_status', 'favorited', 'favorite_count'], axis=1)\n",
    "sesna.head()"
   ]
  },
  {
   "cell_type": "code",
   "execution_count": 527,
   "id": "e92cdc3e",
   "metadata": {},
   "outputs": [
    {
     "name": "stderr",
     "output_type": "stream",
     "text": [
      "C:\\Users\\ccamacho\\AppData\\Local\\Temp\\ipykernel_8900\\1804305231.py:4: FutureWarning: The default value of regex will change from True to False in a future version.\n",
      "  sesna['full_text'] = sesna[\"full_text\"].str.replace(patron, '')\n"
     ]
    }
   ],
   "source": [
    "# Patron de https, nota: verificar patron (puede ser mucho más preciso, son diez digitos y letras despues de https://t.cof/\n",
    "patron = 'https://([^ ]*)'    \n",
    "#re.findall(patron, sesna['full_text'][0])\n",
    "sesna['full_text'] = sesna[\"full_text\"].str.replace(patron, '')\n",
    "sesna['full_text'] = sesna[\"full_text\"].str.replace('https', '')"
   ]
  },
  {
   "cell_type": "code",
   "execution_count": 528,
   "id": "48cad7c9",
   "metadata": {},
   "outputs": [
    {
     "data": {
      "text/html": [
       "<div>\n",
       "<style scoped>\n",
       "    .dataframe tbody tr th:only-of-type {\n",
       "        vertical-align: middle;\n",
       "    }\n",
       "\n",
       "    .dataframe tbody tr th {\n",
       "        vertical-align: top;\n",
       "    }\n",
       "\n",
       "    .dataframe thead th {\n",
       "        text-align: right;\n",
       "    }\n",
       "</style>\n",
       "<table border=\"1\" class=\"dataframe\">\n",
       "  <thead>\n",
       "    <tr style=\"text-align: right;\">\n",
       "      <th></th>\n",
       "      <th>created_at</th>\n",
       "      <th>full_text</th>\n",
       "      <th>retweet_count</th>\n",
       "      <th>New</th>\n",
       "      <th>n_urls</th>\n",
       "    </tr>\n",
       "  </thead>\n",
       "  <tbody>\n",
       "    <tr>\n",
       "      <th>0</th>\n",
       "      <td>2023-01-13 13:59:00</td>\n",
       "      <td>#Convenio \\n\\n??️ Revive el evento donde la #S...</td>\n",
       "      <td>0</td>\n",
       "      <td>True</td>\n",
       "      <td>[]</td>\n",
       "    </tr>\n",
       "    <tr>\n",
       "      <th>1</th>\n",
       "      <td>2023-01-13 00:08:44</td>\n",
       "      <td>?? Noel Díaz Rodríguez, Fiscal Especializado A...</td>\n",
       "      <td>1</td>\n",
       "      <td>True</td>\n",
       "      <td>[]</td>\n",
       "    </tr>\n",
       "    <tr>\n",
       "      <th>2</th>\n",
       "      <td>2023-01-12 23:01:54</td>\n",
       "      <td>✍️@morenoroberto77, Titular de #SESNA, en reun...</td>\n",
       "      <td>4</td>\n",
       "      <td>True</td>\n",
       "      <td>[]</td>\n",
       "    </tr>\n",
       "    <tr>\n",
       "      <th>3</th>\n",
       "      <td>2023-01-12 18:40:12</td>\n",
       "      <td>#Querétaro \\n#FederalismoAnticorrupción\\n#Form...</td>\n",
       "      <td>0</td>\n",
       "      <td>True</td>\n",
       "      <td>[]</td>\n",
       "    </tr>\n",
       "    <tr>\n",
       "      <th>4</th>\n",
       "      <td>2023-01-12 18:10:00</td>\n",
       "      <td>#EstadoDeMéxico \\n#Anticorrupción\\n#Federalism...</td>\n",
       "      <td>2</td>\n",
       "      <td>True</td>\n",
       "      <td>[]</td>\n",
       "    </tr>\n",
       "  </tbody>\n",
       "</table>\n",
       "</div>"
      ],
      "text/plain": [
       "           created_at                                          full_text  \\\n",
       "0 2023-01-13 13:59:00  #Convenio \\n\\n??️ Revive el evento donde la #S...   \n",
       "1 2023-01-13 00:08:44  ?? Noel Díaz Rodríguez, Fiscal Especializado A...   \n",
       "2 2023-01-12 23:01:54  ✍️@morenoroberto77, Titular de #SESNA, en reun...   \n",
       "3 2023-01-12 18:40:12  #Querétaro \\n#FederalismoAnticorrupción\\n#Form...   \n",
       "4 2023-01-12 18:10:00  #EstadoDeMéxico \\n#Anticorrupción\\n#Federalism...   \n",
       "\n",
       "   retweet_count   New n_urls  \n",
       "0              0  True     []  \n",
       "1              1  True     []  \n",
       "2              4  True     []  \n",
       "3              0  True     []  \n",
       "4              2  True     []  "
      ]
     },
     "execution_count": 528,
     "metadata": {},
     "output_type": "execute_result"
    }
   ],
   "source": [
    "#Este código está creando una nueva columna llamada \"n_urls\" en el DataFrame.\n",
    "# El método apply() se usa aquí para aplicar una función lambda a cada fila del DataFrame. La función lambda busca URLs en el contenido del mensaje en cada fila y devuelve una lista de todas las URLs encontradas en esa fila. La función re.findall() se utiliza para buscar todas las instancias de \"http://\" y \"https://\" en el contenido del mensaje.\n",
    "# Luego, la función lambda devuelve la suma de las dos listas creadas por las dos llamadas a la función re.findall(). Esto devuelve una lista con todas las URLs encontradas en la fila.\n",
    "# Finalmente, la función apply() establece la columna \"n_urls\" en el número de elementos en esta lista (es decir, el número de URLs encontradas en el mensaje).\n",
    "\n",
    "sesna[\"n_urls\"] = sesna.apply(lambda x:re.findall(\"http://\", x[\"full_text\"]) + re.findall(\"https://\", x[\"full_text\"]), axis = 1)\n",
    "sesna.head()"
   ]
  },
  {
   "cell_type": "code",
   "execution_count": 529,
   "id": "742ad247",
   "metadata": {},
   "outputs": [
    {
     "data": {
      "text/plain": [
       "0"
      ]
     },
     "execution_count": 529,
     "metadata": {},
     "output_type": "execute_result"
    }
   ],
   "source": [
    "sum(sesna['n_urls'].str.len()) # Comprobamos que ya no tengamos https://t.cof"
   ]
  },
  {
   "cell_type": "code",
   "execution_count": 422,
   "id": "3792dcf9",
   "metadata": {},
   "outputs": [],
   "source": [
    "# sesna[\"full_text\"].str.len()  #Cuantos caracteres tenemos por cada tweet"
   ]
  },
  {
   "cell_type": "code",
   "execution_count": 530,
   "id": "da726132",
   "metadata": {},
   "outputs": [
    {
     "data": {
      "text/html": [
       "<div>\n",
       "<style scoped>\n",
       "    .dataframe tbody tr th:only-of-type {\n",
       "        vertical-align: middle;\n",
       "    }\n",
       "\n",
       "    .dataframe tbody tr th {\n",
       "        vertical-align: top;\n",
       "    }\n",
       "\n",
       "    .dataframe thead th {\n",
       "        text-align: right;\n",
       "    }\n",
       "</style>\n",
       "<table border=\"1\" class=\"dataframe\">\n",
       "  <thead>\n",
       "    <tr style=\"text-align: right;\">\n",
       "      <th></th>\n",
       "      <th>created_at</th>\n",
       "      <th>full_text</th>\n",
       "      <th>retweet_count</th>\n",
       "      <th>New</th>\n",
       "      <th>n_urls</th>\n",
       "    </tr>\n",
       "  </thead>\n",
       "  <tbody>\n",
       "    <tr>\n",
       "      <th>9</th>\n",
       "      <td>2023-01-11 23:00:32</td>\n",
       "      <td>#Entérate \\n\\n??Visita los sistemas de la #PDN...</td>\n",
       "      <td>2</td>\n",
       "      <td>True</td>\n",
       "      <td>[]</td>\n",
       "    </tr>\n",
       "    <tr>\n",
       "      <th>26</th>\n",
       "      <td>2023-01-04 18:00:30</td>\n",
       "      <td>#TomaNota \\n\\n??Conoce la experiencia que vivi...</td>\n",
       "      <td>2</td>\n",
       "      <td>True</td>\n",
       "      <td>[]</td>\n",
       "    </tr>\n",
       "    <tr>\n",
       "      <th>29</th>\n",
       "      <td>2023-01-02 18:43:38</td>\n",
       "      <td>??  #SESNA celebra la designación del Magistra...</td>\n",
       "      <td>6</td>\n",
       "      <td>True</td>\n",
       "      <td>[]</td>\n",
       "    </tr>\n",
       "    <tr>\n",
       "      <th>30</th>\n",
       "      <td>2023-01-02 18:00:01</td>\n",
       "      <td>✅ @pacoalvarezc , Presidente ??del @ComiteCPC,...</td>\n",
       "      <td>4</td>\n",
       "      <td>True</td>\n",
       "      <td>[]</td>\n",
       "    </tr>\n",
       "    <tr>\n",
       "      <th>33</th>\n",
       "      <td>2022-12-28 18:01:30</td>\n",
       "      <td>#ConoceMás\\n\\nConoce la opinión de expertos so...</td>\n",
       "      <td>5</td>\n",
       "      <td>True</td>\n",
       "      <td>[]</td>\n",
       "    </tr>\n",
       "    <tr>\n",
       "      <th>...</th>\n",
       "      <td>...</td>\n",
       "      <td>...</td>\n",
       "      <td>...</td>\n",
       "      <td>...</td>\n",
       "      <td>...</td>\n",
       "    </tr>\n",
       "    <tr>\n",
       "      <th>954</th>\n",
       "      <td>2022-08-03 19:47:28</td>\n",
       "      <td>??\\n??Al recibir el premio, @pauvallejos  dijo...</td>\n",
       "      <td>4</td>\n",
       "      <td>True</td>\n",
       "      <td>[]</td>\n",
       "    </tr>\n",
       "    <tr>\n",
       "      <th>971</th>\n",
       "      <td>2022-08-01 14:57:02</td>\n",
       "      <td>??\\n✅ Resultados: 2da quincena de noviembre y ...</td>\n",
       "      <td>0</td>\n",
       "      <td>True</td>\n",
       "      <td>[]</td>\n",
       "    </tr>\n",
       "    <tr>\n",
       "      <th>972</th>\n",
       "      <td>2022-08-01 14:56:27</td>\n",
       "      <td>??\\n✅ Está compuesto por cinco categorías: inv...</td>\n",
       "      <td>0</td>\n",
       "      <td>True</td>\n",
       "      <td>[]</td>\n",
       "    </tr>\n",
       "    <tr>\n",
       "      <th>975</th>\n",
       "      <td>2022-08-01 12:59:00</td>\n",
       "      <td>#Entérate \\n\\n?? El 75% de los estados de la R...</td>\n",
       "      <td>13</td>\n",
       "      <td>True</td>\n",
       "      <td>[]</td>\n",
       "    </tr>\n",
       "    <tr>\n",
       "      <th>986</th>\n",
       "      <td>2022-07-28 00:57:45</td>\n",
       "      <td>?? Acompáñanos este jueves a la presentación d...</td>\n",
       "      <td>5</td>\n",
       "      <td>True</td>\n",
       "      <td>[]</td>\n",
       "    </tr>\n",
       "  </tbody>\n",
       "</table>\n",
       "<p>155 rows × 5 columns</p>\n",
       "</div>"
      ],
      "text/plain": [
       "             created_at                                          full_text  \\\n",
       "9   2023-01-11 23:00:32  #Entérate \\n\\n??Visita los sistemas de la #PDN...   \n",
       "26  2023-01-04 18:00:30  #TomaNota \\n\\n??Conoce la experiencia que vivi...   \n",
       "29  2023-01-02 18:43:38  ??  #SESNA celebra la designación del Magistra...   \n",
       "30  2023-01-02 18:00:01  ✅ @pacoalvarezc , Presidente ??del @ComiteCPC,...   \n",
       "33  2022-12-28 18:01:30  #ConoceMás\\n\\nConoce la opinión de expertos so...   \n",
       "..                  ...                                                ...   \n",
       "954 2022-08-03 19:47:28  ??\\n??Al recibir el premio, @pauvallejos  dijo...   \n",
       "971 2022-08-01 14:57:02  ??\\n✅ Resultados: 2da quincena de noviembre y ...   \n",
       "972 2022-08-01 14:56:27  ??\\n✅ Está compuesto por cinco categorías: inv...   \n",
       "975 2022-08-01 12:59:00  #Entérate \\n\\n?? El 75% de los estados de la R...   \n",
       "986 2022-07-28 00:57:45  ?? Acompáñanos este jueves a la presentación d...   \n",
       "\n",
       "     retweet_count   New n_urls  \n",
       "9                2  True     []  \n",
       "26               2  True     []  \n",
       "29               6  True     []  \n",
       "30               4  True     []  \n",
       "33               5  True     []  \n",
       "..             ...   ...    ...  \n",
       "954              4  True     []  \n",
       "971              0  True     []  \n",
       "972              0  True     []  \n",
       "975             13  True     []  \n",
       "986              5  True     []  \n",
       "\n",
       "[155 rows x 5 columns]"
      ]
     },
     "execution_count": 530,
     "metadata": {},
     "output_type": "execute_result"
    }
   ],
   "source": [
    "# Este código devuelve un subconjunto de filas del DataFrame, que contienen la cadena de caracteres \"br\" en la columna \"full_text\". El método str.contains() es utilizado para buscar patrones de caracteres en una cadena. \n",
    "# Nota: En este caso, \"br\" es una etiqueta HTML que se utiliza para crear un salto de línea en una página web.\n",
    "sesna[sesna[\"full_text\"].str.contains(\"br\")]"
   ]
  },
  {
   "cell_type": "code",
   "execution_count": 531,
   "id": "6ef26589",
   "metadata": {},
   "outputs": [],
   "source": [
    "# Ahora eliminaremos las palabras que no nos aportan información relevante\n",
    "# Esta línea de código la ocupamos para traer nuestra stopwords como de, el, es, etc. es un archivo txt.\n",
    "df_stopwords = pd.read_csv('stopwords.txt', names=['word'], header=None)\n",
    "stop_words = df_stopwords['word'].tolist()            # lo Tranformamos a una lista "
   ]
  },
  {
   "cell_type": "code",
   "execution_count": 532,
   "id": "a21f22a1",
   "metadata": {},
   "outputs": [],
   "source": [
    "#Definimos la función para poder ocupar nuestras stopwords\n",
    "def remove_stop_words_from_text(text):\n",
    "    res = []\n",
    "    subwords = re.findall(r'\\S+', text)\n",
    "    for item in subwords:\n",
    "        if not item in stop_words:\n",
    "            res.append(item)\n",
    "    return res"
   ]
  },
  {
   "cell_type": "code",
   "execution_count": 533,
   "id": "9fdc180f",
   "metadata": {},
   "outputs": [],
   "source": [
    "#Otra opción para limpiar y normalizar el texto\n",
    "def clean_text2(text, pattern=\"[^a-zA-Z0-9 ]\"):\n",
    "    cleaned_text = unicodedata.normalize('NFD', text).encode('ascii', 'ignore')\n",
    "    cleaned_text = re.sub(pattern, \" \", cleaned_text.decode(\"utf-8\"), flags=re.UNICODE)\n",
    "    cleaned_text = u' '.join(cleaned_text.lower().split())\n",
    "    cleaned_text = remove_stop_words_from_text(cleaned_text)\n",
    "    return \" \".join(cleaned_text) "
   ]
  },
  {
   "cell_type": "code",
   "execution_count": 534,
   "id": "adfb21ee",
   "metadata": {},
   "outputs": [
    {
     "data": {
      "text/html": [
       "<div>\n",
       "<style scoped>\n",
       "    .dataframe tbody tr th:only-of-type {\n",
       "        vertical-align: middle;\n",
       "    }\n",
       "\n",
       "    .dataframe tbody tr th {\n",
       "        vertical-align: top;\n",
       "    }\n",
       "\n",
       "    .dataframe thead th {\n",
       "        text-align: right;\n",
       "    }\n",
       "</style>\n",
       "<table border=\"1\" class=\"dataframe\">\n",
       "  <thead>\n",
       "    <tr style=\"text-align: right;\">\n",
       "      <th></th>\n",
       "      <th>created_at</th>\n",
       "      <th>full_text</th>\n",
       "      <th>retweet_count</th>\n",
       "      <th>New</th>\n",
       "      <th>n_urls</th>\n",
       "    </tr>\n",
       "  </thead>\n",
       "  <tbody>\n",
       "    <tr>\n",
       "      <th>0</th>\n",
       "      <td>2023-01-13 13:59:00</td>\n",
       "      <td>convenio revive evento sesna inemexico firmaro...</td>\n",
       "      <td>0</td>\n",
       "      <td>True</td>\n",
       "      <td>[]</td>\n",
       "    </tr>\n",
       "    <tr>\n",
       "      <th>1</th>\n",
       "      <td>2023-01-13 00:08:44</td>\n",
       "      <td>noel diaz rodriguez fiscal especializado antic...</td>\n",
       "      <td>1</td>\n",
       "      <td>True</td>\n",
       "      <td>[]</td>\n",
       "    </tr>\n",
       "    <tr>\n",
       "      <th>2</th>\n",
       "      <td>2023-01-12 23:01:54</td>\n",
       "      <td>morenoroberto77 titular sesna reunion sesaemm ...</td>\n",
       "      <td>4</td>\n",
       "      <td>True</td>\n",
       "      <td>[]</td>\n",
       "    </tr>\n",
       "    <tr>\n",
       "      <th>3</th>\n",
       "      <td>2023-01-12 18:40:12</td>\n",
       "      <td>queretaro federalismoanticorrupcion formacion</td>\n",
       "      <td>0</td>\n",
       "      <td>True</td>\n",
       "      <td>[]</td>\n",
       "    </tr>\n",
       "    <tr>\n",
       "      <th>4</th>\n",
       "      <td>2023-01-12 18:10:00</td>\n",
       "      <td>estadodemexico anticorrupcion federalismoantic...</td>\n",
       "      <td>2</td>\n",
       "      <td>True</td>\n",
       "      <td>[]</td>\n",
       "    </tr>\n",
       "  </tbody>\n",
       "</table>\n",
       "</div>"
      ],
      "text/plain": [
       "           created_at                                          full_text  \\\n",
       "0 2023-01-13 13:59:00  convenio revive evento sesna inemexico firmaro...   \n",
       "1 2023-01-13 00:08:44  noel diaz rodriguez fiscal especializado antic...   \n",
       "2 2023-01-12 23:01:54  morenoroberto77 titular sesna reunion sesaemm ...   \n",
       "3 2023-01-12 18:40:12      queretaro federalismoanticorrupcion formacion   \n",
       "4 2023-01-12 18:10:00  estadodemexico anticorrupcion federalismoantic...   \n",
       "\n",
       "   retweet_count   New n_urls  \n",
       "0              0  True     []  \n",
       "1              1  True     []  \n",
       "2              4  True     []  \n",
       "3              0  True     []  \n",
       "4              2  True     []  "
      ]
     },
     "execution_count": 534,
     "metadata": {},
     "output_type": "execute_result"
    }
   ],
   "source": [
    "sesna['full_text'] = sesna['full_text'].apply(clean_text2)\n",
    "sesna.head()"
   ]
  },
  {
   "cell_type": "markdown",
   "id": "6e199470",
   "metadata": {},
   "source": [
    "clean_text(BeautifulSoup(texto).text)\n",
    "\n",
    "Este código utiliza la biblioteca BeautifulSoup para eliminar todas las etiquetas HTML del texto dado y, a continuación, utiliza la función clean_text() para limpiar el texto de carácteres no alfanuméricos y convertir todas las letras a minúsculas.\n",
    "\n",
    "#Conclusión: Se obtine una cadena de texto que ha sido procesada para que sea fácil de leer y analizar."
   ]
  },
  {
   "cell_type": "code",
   "execution_count": 535,
   "id": "f4af352c",
   "metadata": {},
   "outputs": [],
   "source": [
    "sesna[\"full_text\"] = sesna[\"full_text\"].map(lambda x: BeautifulSoup(x).text)"
   ]
  },
  {
   "cell_type": "markdown",
   "id": "4d06f333",
   "metadata": {},
   "source": [
    "Este código aplica la función BeautifulSoup(x).text a la columna \"full_text\" de nuestro DataFrame.\n",
    "\n",
    "La función lambda x se utiliza para aplicar la función BeautifulSoup(x).text a cada elemento de la columna \"full_text\". \n",
    "\n",
    "El resultado es una nueva columna llamada \"full_text\" en la que se han eliminado todas las etiquetas HTML y XML del texto original."
   ]
  },
  {
   "cell_type": "markdown",
   "id": "b5e1a52c",
   "metadata": {},
   "source": [
    "## Hasta esta parte ya hemos limpiado los Tweets, eliminando carácteres, stopwords y simobolos, crearemos una nube de palabras con el texto normalizado y limpio."
   ]
  },
  {
   "cell_type": "code",
   "execution_count": 536,
   "id": "48afba5f",
   "metadata": {},
   "outputs": [],
   "source": [
    "def get_wordcloud(text, \n",
    "                  icon=\"fas fa-cloud\",\n",
    "                  #colors='#4e203a',\n",
    "                  palette='cartocolors.qualitative.Safe_3',\n",
    "                  background_color='white',  #'#7c90ab', \n",
    "                  output_name=\"./wordcloud.png\"):\n",
    "    \n",
    "    # https://fontawesome.com/v4/icon/globe   --Icons\n",
    "    # https://html-color.codes/               --Colors\n",
    "    # https://jiffyclub.github.io/palettable/cartocolors/qualitative/#antique_3  --Paletas de colores\n",
    "    gen_stylecloud(text=text, \n",
    "                   icon_name=icon, \n",
    "                   #colors=colors,\n",
    "                   palette=palette,\n",
    "                   background_color=background_color, \n",
    "                   output_name=output_name)\n",
    "    \n",
    "    return Image.open(output_name) "
   ]
  },
  {
   "cell_type": "markdown",
   "id": "3f1d7c04",
   "metadata": {},
   "source": [
    "get_wordcloud: Genera una nube de palabras a partir de un texto dado usando la librería stylecloud. La función toma cuatro argumentos:\n",
    "\n",
    "           -text: El texto del que se desea crear la nube de palabras.\n",
    "           -icon: El nombre del ícono que se desea mostrar en la nube de palabras. El valor predeterminado es \"fas fa-comment\", que representa un ícono de un globo de diálogo.\n",
    "           -background_color: El color de fondo deseado para la nube de palabras. Si no se proporciona, se utiliza un fondo blanco predeterminado.\n",
    "           -output_name: El nombre del archivo de salida que contiene la nube de palabras generada. Si no se proporciona, el archivo de salida se llama \"wordcloud.png\" y se guarda en el directorio actual.\n",
    "\n",
    "#Conclusión: Esta función encapsula la creación de una nube de palabras personalizada usando la librería stylecloud y devuelve la imagen resultante como un objeto Image de la librería Pillow."
   ]
  },
  {
   "cell_type": "code",
   "execution_count": 537,
   "id": "04799225",
   "metadata": {},
   "outputs": [],
   "source": [
    "#get_wordcloud(sesna['full_text'][304])"
   ]
  },
  {
   "cell_type": "code",
   "execution_count": 538,
   "id": "94f8259e",
   "metadata": {},
   "outputs": [
    {
     "data": {
      "image/png": "[encoded data removed]",
      "text/plain": [
       "<PIL.PngImagePlugin.PngImageFile image mode=RGB size=512x512>"
      ]
     },
     "metadata": {},
     "output_type": "display_data"
    }
   ],
   "source": [
    "# Creamos nuestra nube de palabras \n",
    "for doc in sesna[\"New\"].unique():\n",
    "    display(get_wordcloud(\" \".join(sesna.loc[sesna[\"New\"] == doc, 'full_text'])))"
   ]
  },
  {
   "cell_type": "markdown",
   "id": "dc17355f",
   "metadata": {},
   "source": [
    "df[\"full_text2\"] = df[\"full_text\"].map(clean_text)\n",
    "\n",
    "Este código crea una nueva columna en el DataFrame con nombre \"full_text2\". \n",
    "\n",
    "La columna \"full_text\" del DataFrame contiene textos de comentarios. Se utiliza la función clean_text() para procesar cada texto y eliminar las etiquetas HTML, carácteres de puntuación, numéricos y de escape, y también para transformar todas las letras en minúsculas. \n",
    "\n",
    "La función map() se aplica a cada elemento de la columna \"CONTENT\", y el resultado se almacena en la nueva columna \"full_text2\". \n",
    "\n",
    "El objetivo es tener una versión más limpia y uniforme del contenido de los comentarios para realizar un análisis de texto."
   ]
  },
  {
   "cell_type": "markdown",
   "id": "b0142f7b",
   "metadata": {},
   "source": [
    "# Segunda parte Tokenizacion para el Análisis de sentimientos"
   ]
  },
  {
   "cell_type": "code",
   "execution_count": 539,
   "id": "3e4105c4",
   "metadata": {},
   "outputs": [],
   "source": [
    "# populate word2idx\n",
    "# convert documents into sequences of ints / ids / indices\n",
    "idx = 0\n",
    "word2idx = {}\n",
    "tokenized_docs = []\n",
    "for doc in sesna['full_text']:                      # Cada uno de los texto los vamos a convertir a minusculas y despues con word_tokenize\n",
    "    words = word_tokenize(doc.lower())             # Los tokenizamos, una lista\n",
    "                                        \n",
    "        \n",
    "    doc_as_int = []                         \n",
    "    for word in words:\n",
    "        if word not in word2idx:            # En esta parte del código le agregamos un contador a cada palabra para saber\n",
    "            word2idx[word] = idx            # Cuantas tenemos\n",
    "            idx += 1\n",
    "            \n",
    "        # save for later\n",
    "        doc_as_int.append(word2idx[word])\n",
    "        tokenized_docs.append(doc_as_int)"
   ]
  },
  {
   "cell_type": "code",
   "execution_count": 229,
   "id": "bf75ac0c",
   "metadata": {},
   "outputs": [],
   "source": [
    "#words\n",
    "#word2idx\n",
    "#word2idx.items()\n",
    "#sesna['full_text'][1]"
   ]
  },
  {
   "cell_type": "code",
   "execution_count": 540,
   "id": "1219099a",
   "metadata": {},
   "outputs": [],
   "source": [
    "# reverse mapping \n",
    "# if you do it smarter you can store it as a list\n",
    "idx2word = {v:k for k, v in word2idx.items()}             #En esta línea solo ponemos el contador al principio de cada palabra\n",
    "#idx2word"
   ]
  },
  {
   "cell_type": "code",
   "execution_count": 541,
   "id": "c7e7de33",
   "metadata": {},
   "outputs": [
    {
     "data": {
      "text/plain": [
       "(1000, 2797)"
      ]
     },
     "execution_count": 541,
     "metadata": {},
     "output_type": "execute_result"
    }
   ],
   "source": [
    "# Number of documents\n",
    "N = len(sesna['full_text']) #Número de documentos o Tweets\n",
    "V = len(word2idx)           #Número de elementos que hay, (Palabras, Emojis, carácteres)\n",
    "#P = len(idx2word)\n",
    "N,V#,P"
   ]
  },
  {
   "cell_type": "code",
   "execution_count": 284,
   "id": "264a4f09",
   "metadata": {},
   "outputs": [],
   "source": [
    "#word2idx\n",
    "#idx2word"
   ]
  },
  {
   "cell_type": "code",
   "execution_count": 285,
   "id": "aa4d0000",
   "metadata": {},
   "outputs": [],
   "source": [
    "#Al parecer si se puede comenzar a limpiar o eliminar los tokens :)"
   ]
  },
  {
   "cell_type": "code",
   "execution_count": 542,
   "id": "cfe0742f",
   "metadata": {},
   "outputs": [],
   "source": [
    "lemmatizer = WordNetLemmatizer()"
   ]
  },
  {
   "cell_type": "code",
   "execution_count": 543,
   "id": "1c241388",
   "metadata": {},
   "outputs": [],
   "source": [
    "# Con esta función podemos etiquetar cada uno de nuestros tokens y asi poder clasificarlos.\n",
    "def get_wordnet_pos(treebank_tag):\n",
    "    if treebank_tag.startswith('J'):      # Si comienza con \"J\" es una adejtivo.\n",
    "        return wordnet.ADJ\n",
    "    elif treebank_tag.startswith('V'):    # Si comienza con \"V\" un verbo y asi podemos llevar esos tokens a su verbo base.\n",
    "        return wordnet.VERB\n",
    "    elif treebank_tag.startswith('N'):    # Si comienzan con \"N\" no nos brinda valor.\n",
    "        return wordnet.NOUN\n",
    "    elif treebank_tag.startswith('R'):    # lo Mismo sucede con esta línea.\n",
    "        return wordnet.ADV\n",
    "    else:\n",
    "        return wordnet.NOUN"
   ]
  },
  {
   "cell_type": "code",
   "execution_count": 544,
   "id": "7d514308",
   "metadata": {},
   "outputs": [],
   "source": [
    "words = []\n",
    "words2 = []\n",
    "for i in range(len(sesna['full_text'])):\n",
    "    \n",
    "    words = word_tokenize(sesna['full_text'][i].lower())   # En esta parte del Código es para tokenizar nuestros tweets\n",
    "    words2.append(words)                                   # Aqui guardamos los tweets tokenizados."
   ]
  },
  {
   "cell_type": "code",
   "execution_count": 545,
   "id": "20ba94f5",
   "metadata": {},
   "outputs": [],
   "source": [
    "verbs = []\n",
    "verbs2 = []\n",
    "for i in range(len(words2)):\n",
    "    verbs = nltk.pos_tag(words2[i])   # Los clasificamos con pos_tag, para saber si son verbos, adverbios, Nouns, etc.\n",
    "    verbs2.append(verbs)                  # Guardamos cada tweet tokenizado con su clasificación correspondiente a cada token."
   ]
  },
  {
   "cell_type": "code",
   "execution_count": 546,
   "id": "f7df6c4e",
   "metadata": {},
   "outputs": [],
   "source": [
    "lemma = []\n",
    "lemma2 = []\n",
    "for i in range(len(verbs2)):\n",
    "    for word, tag in verbs2[i]:\n",
    "            lemma = lemmatizer.lemmatize(word, pos=get_wordnet_pos(tag))    # Aqui utilizamos la función para llevar el verbo\n",
    "            lemma2.append(lemma)                                            # a su forma base\n",
    "            #print(lemma, end=' ')"
   ]
  },
  {
   "cell_type": "code",
   "execution_count": 547,
   "id": "cb1da4b4",
   "metadata": {},
   "outputs": [
    {
     "data": {
      "text/plain": [
       "{'neg': 0.773, 'neu': 0.227, 'pos': 0.0, 'compound': -0.7783}"
      ]
     },
     "execution_count": 547,
     "metadata": {},
     "output_type": "execute_result"
    }
   ],
   "source": [
    "sentiment = SentimentIntensityAnalyzer()\n",
    "sentiment.polarity_scores(\"Hello bad pain World\")"
   ]
  },
  {
   "cell_type": "code",
   "execution_count": 548,
   "id": "dc7e2fbd",
   "metadata": {},
   "outputs": [],
   "source": [
    "sesna[\"polarity\"] = sesna[\"full_text\"].map(lambda x: sentiment.polarity_scores(x)[\"compound\"])"
   ]
  },
  {
   "cell_type": "markdown",
   "id": "1e8494ab",
   "metadata": {},
   "source": [
    "La función polarity_scores de la clase SentimentIntensityAnalyzer devuelve un diccionario con cuatro claves: neg, neu, pos, y compound. Compound representa una métrica de polaridad que va de -1 (muy negativo) a 1 (muy positivo).\n",
    "\n",
    "Se aplica la función polarity_scores a cada texto en la columna \"full_text\" usando la función map en conjunto con una función lambda que extrae el valor de Compound del diccionario resultante y lo asigna a la columna \"polarity\".\n",
    "\n",
    "#Conclusión:El código está creando una nueva columna \"polarity\" en el DataFrame, la cual contiene el valor de polaridad de cada texto en la columna \"full_text\"."
   ]
  },
  {
   "cell_type": "code",
   "execution_count": 549,
   "id": "0e944e94",
   "metadata": {},
   "outputs": [
    {
     "data": {
      "text/plain": [
       "<AxesSubplot:xlabel='polarity', ylabel='Count'>"
      ]
     },
     "execution_count": 549,
     "metadata": {},
     "output_type": "execute_result"
    },
    {
     "data": {
      "image/png": "[encoded data removed]",
      "text/plain": [
       "<Figure size 640x480 with 1 Axes>"
      ]
     },
     "metadata": {},
     "output_type": "display_data"
    }
   ],
   "source": [
    "#sesna[\"polarity\"].iplot(kind=\"hist\")\n",
    "#sesna[\"polarity\"].hist()\n",
    "sns.histplot(sesna['polarity'])"
   ]
  },
  {
   "cell_type": "markdown",
   "id": "9af5c898",
   "metadata": {},
   "source": [
    "La función polarity_scores de la clase SentimentIntensityAnalyzer devuelve un diccionario con cuatro claves: neg, neu, pos, y compound. Compound representa una métrica de polaridad que va de -1 (muy negativo) a 1 (muy positivo).\n",
    "\n",
    "Se aplica la función polarity_scores a cada texto en la columna \"full_text\" usando la función map en conjunto con una función lambda que extrae el valor de Compound del diccionario resultante y lo asigna a la columna \"polarity\".\n",
    "\n",
    "#Conclusión:El código está creando una nueva columna \"polarity\" en el DataFrame, la cual contiene el valor de polaridad de cada texto en la columna \"full_text\"."
   ]
  },
  {
   "cell_type": "code",
   "execution_count": 550,
   "id": "720545c6",
   "metadata": {},
   "outputs": [
    {
     "data": {
      "text/plain": [
       "<AxesSubplot:>"
      ]
     },
     "execution_count": 550,
     "metadata": {},
     "output_type": "execute_result"
    },
    {
     "data": {
      "image/png": "[encoded data removed]",
      "text/plain": [
       "<Figure size 1000x500 with 1 Axes>"
      ]
     },
     "metadata": {},
     "output_type": "display_data"
    }
   ],
   "source": [
    "sesna['polarity'].hist(figsize=(10,5))"
   ]
  },
  {
   "cell_type": "markdown",
   "id": "fd2de612",
   "metadata": {},
   "source": [
    "## Ahora vamos a intentar vectorizar"
   ]
  },
  {
   "cell_type": "code",
   "execution_count": null,
   "id": "8b9e7bd2",
   "metadata": {},
   "outputs": [],
   "source": []
  },
  {
   "cell_type": "code",
   "execution_count": null,
   "id": "6ceb8a25",
   "metadata": {},
   "outputs": [],
   "source": []
  },
  {
   "cell_type": "code",
   "execution_count": null,
   "id": "79f8745c",
   "metadata": {},
   "outputs": [],
   "source": []
  },
  {
   "cell_type": "code",
   "execution_count": null,
   "id": "e07e827d",
   "metadata": {},
   "outputs": [],
   "source": []
  }
 ],
 "metadata": {
  "kernelspec": {
   "display_name": "Python 3 (ipykernel)",
   "language": "python",
   "name": "python3"
  },
  "language_info": {
   "codemirror_mode": {
    "name": "ipython",
    "version": 3
   },
   "file_extension": ".py",
   "mimetype": "text/x-python",
   "name": "python",
   "nbconvert_exporter": "python",
   "pygments_lexer": "ipython3",
   "version": "3.9.13"
  }
 },
 "nbformat": 4,
 "nbformat_minor": 5
}
